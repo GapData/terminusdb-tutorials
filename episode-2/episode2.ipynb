{
 "cells": [
  {
   "cell_type": "code",
   "execution_count": null,
   "metadata": {},
   "outputs": [],
   "source": [
    "from terminusdb_client import WOQLQuery as WQ\n",
    "from terminusdb_client import WOQLClient"
   ]
  },
  {
   "cell_type": "code",
   "execution_count": null,
   "metadata": {},
   "outputs": [],
   "source": [
    "server_url = \"https://127.0.0.1:6363\"\n",
    "user = \"admin\"\n",
    "account = \"admin\"\n",
    "key = \"root\"\n",
    "dbid = \"unwarbled_widgets\"\n",
    "repository = \"local\"\n",
    "label = \"Unwarbled Widgets\"\n",
    "description = \"The database for storage of the unwarbled widgets\"\n",
    "#result_csv = '/app/local_files/unwarbled_widgets.csv'\n",
    "widgets_url = 'http://terminusdb.github.io/terminusdb-web-assets/tutorials/episode_1/items.csv'"
   ]
  },
  {
   "cell_type": "markdown",
   "metadata": {},
   "source": [
    "## Create the client and create the database"
   ]
  },
  {
   "cell_type": "code",
   "execution_count": null,
   "metadata": {},
   "outputs": [],
   "source": [
    "client = WOQLClient(server_url)\n",
    "client.connect(user=user,account=account,key=key,db=dbid)\n",
    "\n",
    "try:\n",
    "    client.create_database(dbid,user,label=label, description=description)\n",
    "except Exception as E:\n",
    "    error_obj = E.errorObj\n",
    "    if \"api:DatabaseAlreadyExists\" == error_obj.get(\"api:error\",{}).get(\"@type\",None):\n",
    "        print(f'Warning: Database \"{dbid}\" already exists!\\n')\n",
    "    else:\n",
    "        raise(E)"
   ]
  },
  {
   "cell_type": "markdown",
   "metadata": {},
   "source": [
    "## Add the schema \n",
    "(there is no harm in adding repeatedly as it is idempotent)"
   ]
  },
  {
   "cell_type": "code",
   "execution_count": null,
   "metadata": {},
   "outputs": [],
   "source": [
    "WQ().woql_and(\n",
    "    WQ().doctype(\"scm:Widget\")\n",
    "        .label(\"Widget\")\n",
    "        .description(\"A widget\")\n",
    "        .property(\"sku\", \"xsd:string\")\n",
    "            .label(\"sku\")\n",
    "            .cardinality(1)\n",
    "        .property(\"date_added\",\"xsd:dateTime\")\n",
    "            .label(\"date added\")\n",
    "        .property(\"category\",\"xsd:string\")\n",
    "            .label(\"category\")\n",
    ").execute(client, \"Adding schema\")"
   ]
  },
  {
   "cell_type": "markdown",
   "metadata": {},
   "source": [
    "## Make the production branch"
   ]
  },
  {
   "cell_type": "code",
   "execution_count": null,
   "metadata": {},
   "outputs": [],
   "source": [
    "production = \"production\"\n",
    "try:\n",
    "    client.branch(production)\n",
    "except Exception as E:\n",
    "    error_obj = E.errorObj\n",
    "    if \"api:BranchExistsError\" == error_obj.get(\"api:error\",{}).get(\"@type\",None):\n",
    "        print(f'Warning: Branch \"{production}\" already exists!\\n')\n",
    "    else:\n",
    "        raise(E)"
   ]
  },
  {
   "cell_type": "markdown",
   "metadata": {},
   "source": [
    "## Return to the 'main' branch"
   ]
  },
  {
   "cell_type": "code",
   "execution_count": null,
   "metadata": {},
   "outputs": [],
   "source": [
    "client.checkout('main')"
   ]
  },
  {
   "cell_type": "markdown",
   "metadata": {},
   "source": [
    "## Add the data from csv to the main branch \n",
    "(again idempotent as widget ids are chosen from sku)"
   ]
  },
  {
   "cell_type": "code",
   "execution_count": null,
   "metadata": {},
   "outputs": [],
   "source": [
    "sku, date, category, widget_ID = WQ().vars('v:Sku','Date','Category', 'Widget_ID')\n",
    "WQ().woql_and(\n",
    "    WQ().get(\n",
    "        WQ().woql_as('sku', sku)\n",
    "            .woql_as('date_added', date, \"xsd:dateTime\")\n",
    "            .woql_as('category', category),\n",
    "        WQ().remote(widgets_url)),\n",
    "    WQ().idgen(\"doc:Widget\",[sku],widget_ID),\n",
    "    WQ().insert(widget_ID, \"scm:Widget\")\n",
    "    .property(\"sku\", sku)\n",
    "    .property(\"date_added\", date)\n",
    "    .property(\"category\", category)\n",
    ").execute(client, \"Insert from CSV\")"
   ]
  },
  {
   "cell_type": "markdown",
   "metadata": {},
   "source": [
    "## Move widgets data from main to production"
   ]
  },
  {
   "cell_type": "code",
   "execution_count": null,
   "metadata": {},
   "outputs": [],
   "source": [
    "WQ().woql_and(\n",
    "    WQ().node(widget_ID,\"Widget\")\n",
    "    .property(\"sku\", sku)\n",
    "    .property(\"date_added\", date)\n",
    "    .property(\"category\", category),\n",
    "    WQ().eq(date, WQ().literal('1970-01-01T00:00:00','xsd:dateTime')),\n",
    "    WQ().eq(category, 'widgets'),\n",
    "    WQ().using(\n",
    "        f'{account}/{dbid}/{repository}/branch/{production}',\n",
    "        WQ().woql_and(\n",
    "            WQ().insert(widget_ID, \"scm:Widget\")\n",
    "            .property(\"sku\",sku)\n",
    "            .property(\"date_added\", date)\n",
    "            .property(\"category\", category)\n",
    "        )\n",
    "    )\n",
    ").execute(client, \"Add to production branch\")"
   ]
  },
  {
   "cell_type": "code",
   "execution_count": null,
   "metadata": {},
   "outputs": [],
   "source": []
  }
 ],
 "metadata": {
  "kernelspec": {
   "display_name": "Python 3",
   "language": "python",
   "name": "python3"
  },
  "language_info": {
   "codemirror_mode": {
    "name": "ipython",
    "version": 3
   },
   "file_extension": ".py",
   "mimetype": "text/x-python",
   "name": "python",
   "nbconvert_exporter": "python",
   "pygments_lexer": "ipython3",
   "version": "3.7.3"
  }
 },
 "nbformat": 4,
 "nbformat_minor": 4
}
