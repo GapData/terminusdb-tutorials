{
 "cells": [
  {
   "cell_type": "code",
   "execution_count": 2,
   "metadata": {},
   "outputs": [
    {
     "data": {
      "text/plain": [
       "'nlp_spacy'"
      ]
     },
     "execution_count": 2,
     "metadata": {},
     "output_type": "execute_result"
    }
   ],
   "source": [
    "from terminusdb_client import WOQLClient, WOQLQuery\n",
    "\n",
    "db_id = \"nlp_spacy\"\n",
    "client = WOQLClient(server_url = \"http://localhost:6363\")\n",
    "client.connect(key=\"root\", account=\"admin\", user=\"admin\")\n",
    "client.db(db_id)"
   ]
  },
  {
   "cell_type": "code",
   "execution_count": 9,
   "metadata": {},
   "outputs": [
    {
     "data": {
      "text/html": [
       "<div>\n",
       "<style scoped>\n",
       "    .dataframe tbody tr th:only-of-type {\n",
       "        vertical-align: middle;\n",
       "    }\n",
       "\n",
       "    .dataframe tbody tr th {\n",
       "        vertical-align: top;\n",
       "    }\n",
       "\n",
       "    .dataframe thead th {\n",
       "        text-align: right;\n",
       "    }\n",
       "</style>\n",
       "<table border=\"1\" class=\"dataframe\">\n",
       "  <thead>\n",
       "    <tr style=\"text-align: right;\">\n",
       "      <th></th>\n",
       "      <th>doc_label</th>\n",
       "    </tr>\n",
       "  </thead>\n",
       "  <tbody>\n",
       "    <tr>\n",
       "      <th>0</th>\n",
       "      <td>Apple is looking at buying U.K. startup for $1...</td>\n",
       "    </tr>\n",
       "  </tbody>\n",
       "</table>\n",
       "</div>"
      ],
      "text/plain": [
       "                                           doc_label\n",
       "0  Apple is looking at buying U.K. startup for $1..."
      ]
     },
     "execution_count": 9,
     "metadata": {},
     "output_type": "execute_result"
    }
   ],
   "source": [
    "import terminusdb_client.woqldataframe as woqldf\n",
    "import pandas as pd\n",
    "\n",
    "query = (WOQLQuery().select(\"v:doc_label\")\n",
    "                    .triple(\"v:some_spacy_doc\", \"type\", \"scm:SpaCyDoc\")\n",
    "                    .triple(\"v:some_spacy_doc\", \"label\", \"v:doc_label\")\n",
    "        )\n",
    "woqldf.query_to_df(query.execute(client))"
   ]
  },
  {
   "cell_type": "code",
   "execution_count": 16,
   "metadata": {},
   "outputs": [
    {
     "data": {
      "text/html": [
       "<div>\n",
       "<style scoped>\n",
       "    .dataframe tbody tr th:only-of-type {\n",
       "        vertical-align: middle;\n",
       "    }\n",
       "\n",
       "    .dataframe tbody tr th {\n",
       "        vertical-align: top;\n",
       "    }\n",
       "\n",
       "    .dataframe thead th {\n",
       "        text-align: right;\n",
       "    }\n",
       "</style>\n",
       "<table border=\"1\" class=\"dataframe\">\n",
       "  <thead>\n",
       "    <tr style=\"text-align: right;\">\n",
       "      <th></th>\n",
       "      <th>token_text</th>\n",
       "    </tr>\n",
       "  </thead>\n",
       "  <tbody>\n",
       "    <tr>\n",
       "      <th>0</th>\n",
       "      <td>cars</td>\n",
       "    </tr>\n",
       "    <tr>\n",
       "      <th>1</th>\n",
       "      <td>shift</td>\n",
       "    </tr>\n",
       "    <tr>\n",
       "      <th>2</th>\n",
       "      <td>liability</td>\n",
       "    </tr>\n",
       "  </tbody>\n",
       "</table>\n",
       "</div>"
      ],
      "text/plain": [
       "  token_text\n",
       "0       cars\n",
       "1      shift\n",
       "2  liability"
      ]
     },
     "execution_count": 16,
     "metadata": {},
     "output_type": "execute_result"
    }
   ],
   "source": [
    "query = (WOQLQuery().select(\"v:token_text\")\n",
    "                    #.triple(\"v:some_spacy_doc\", \"type\", \"scm:SpaCyDoc\")\n",
    "                    #.triple(\"v:some_spacy_doc\", \"label\", \"Apple is looking at buying U.K. startup for $1 billion\")\n",
    "                    .triple(\"v:some_spacy_token\", \"type\", \"scm:SpaCyToken\")\n",
    "                    .triple(\"v:some_spacy_token\", \"doc\", \"v:some_spacy_doc\")\n",
    "                    .triple(\"v:some_spacy_token\", \"label\", \"v:token_text\")\n",
    "                    .triple(\"v:some_spacy_token\", \"head\", \"v:target_token\")\n",
    "                    .triple(\"v:target_token\", \"label\", \"shift\")\n",
    "          )\n",
    "         \n",
    "woqldf.query_to_df(query.execute(client))"
   ]
  },
  {
   "cell_type": "code",
   "execution_count": null,
   "metadata": {},
   "outputs": [],
   "source": []
  }
 ],
 "metadata": {
  "kernelspec": {
   "display_name": "Python 3",
   "language": "python",
   "name": "python3"
  },
  "language_info": {
   "codemirror_mode": {
    "name": "ipython",
    "version": 3
   },
   "file_extension": ".py",
   "mimetype": "text/x-python",
   "name": "python",
   "nbconvert_exporter": "python",
   "pygments_lexer": "ipython3",
   "version": "3.7.3"
  }
 },
 "nbformat": 4,
 "nbformat_minor": 4
}
