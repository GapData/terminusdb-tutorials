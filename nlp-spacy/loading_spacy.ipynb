{
 "cells": [
  {
   "cell_type": "code",
   "execution_count": 3,
   "metadata": {},
   "outputs": [
    {
     "data": {
      "text/plain": [
       "'nlp_spacy'"
      ]
     },
     "execution_count": 3,
     "metadata": {},
     "output_type": "execute_result"
    }
   ],
   "source": [
    "from terminusdb_client import WOQLClient, WOQLQuery\n",
    "\n",
    "db_id = \"nlp_spacy\"\n",
    "client = WOQLClient(server_url = \"http://localhost:6363\")\n",
    "client.connect(key=\"root\", account=\"admin\", user=\"admin\")\n",
    "client.db(db_id)"
   ]
  },
  {
   "cell_type": "code",
   "execution_count": 5,
   "metadata": {},
   "outputs": [
    {
     "name": "stdout",
     "output_type": "stream",
     "text": [
      "Autonomous autonomous ADJ JJ amod Xxxxx True False\n",
      "cars car NOUN NNS nsubj xxxx True False\n",
      "shift shift VERB VBP ROOT xxxx True False\n",
      "insurance insurance NOUN NN compound xxxx True False\n",
      "liability liability NOUN NN dobj xxxx True False\n",
      "toward toward ADP IN prep xxxx True True\n",
      "manufacturers manufacturer NOUN NNS pobj xxxx True False\n"
     ]
    },
    {
     "data": {
      "text/plain": [
       "{'bindings': [{'token_doc_id0': 'terminus:///terminus/document/SpaCyDoc_Autonomous%20cars%20shift%20insurance%20liability%20toward%20manufacturers',\n",
       "   'token_doc_id1': 'terminus:///terminus/document/SpaCyDoc_Autonomous%20cars%20shift%20insurance%20liability%20toward%20manufacturers',\n",
       "   'token_doc_id2': 'terminus:///terminus/document/SpaCyDoc_Autonomous%20cars%20shift%20insurance%20liability%20toward%20manufacturers',\n",
       "   'token_doc_id3': 'terminus:///terminus/document/SpaCyDoc_Autonomous%20cars%20shift%20insurance%20liability%20toward%20manufacturers',\n",
       "   'token_doc_id4': 'terminus:///terminus/document/SpaCyDoc_Autonomous%20cars%20shift%20insurance%20liability%20toward%20manufacturers',\n",
       "   'token_doc_id5': 'terminus:///terminus/document/SpaCyDoc_Autonomous%20cars%20shift%20insurance%20liability%20toward%20manufacturers',\n",
       "   'token_doc_id6': 'terminus:///terminus/document/SpaCyDoc_Autonomous%20cars%20shift%20insurance%20liability%20toward%20manufacturers',\n",
       "   'token_id_head0': 'terminus:///terminus/document/SpaCyToken_Autonomous%20cars%20shift%20insurance%20liability%20toward%20manufacturers_1',\n",
       "   'token_id_head1': 'terminus:///terminus/document/SpaCyToken_Autonomous%20cars%20shift%20insurance%20liability%20toward%20manufacturers_2',\n",
       "   'token_id_head2': 'terminus:///terminus/document/SpaCyToken_Autonomous%20cars%20shift%20insurance%20liability%20toward%20manufacturers_2',\n",
       "   'token_id_head3': 'terminus:///terminus/document/SpaCyToken_Autonomous%20cars%20shift%20insurance%20liability%20toward%20manufacturers_4',\n",
       "   'token_id_head4': 'terminus:///terminus/document/SpaCyToken_Autonomous%20cars%20shift%20insurance%20liability%20toward%20manufacturers_2',\n",
       "   'token_id_head5': 'terminus:///terminus/document/SpaCyToken_Autonomous%20cars%20shift%20insurance%20liability%20toward%20manufacturers_4',\n",
       "   'token_id_head6': 'terminus:///terminus/document/SpaCyToken_Autonomous%20cars%20shift%20insurance%20liability%20toward%20manufacturers_5',\n",
       "   'token_id_self0': 'terminus:///terminus/document/SpaCyToken_Autonomous%20cars%20shift%20insurance%20liability%20toward%20manufacturers_0',\n",
       "   'token_id_self1': 'terminus:///terminus/document/SpaCyToken_Autonomous%20cars%20shift%20insurance%20liability%20toward%20manufacturers_1',\n",
       "   'token_id_self2': 'terminus:///terminus/document/SpaCyToken_Autonomous%20cars%20shift%20insurance%20liability%20toward%20manufacturers_2',\n",
       "   'token_id_self3': 'terminus:///terminus/document/SpaCyToken_Autonomous%20cars%20shift%20insurance%20liability%20toward%20manufacturers_3',\n",
       "   'token_id_self4': 'terminus:///terminus/document/SpaCyToken_Autonomous%20cars%20shift%20insurance%20liability%20toward%20manufacturers_4',\n",
       "   'token_id_self5': 'terminus:///terminus/document/SpaCyToken_Autonomous%20cars%20shift%20insurance%20liability%20toward%20manufacturers_5',\n",
       "   'token_id_self6': 'terminus:///terminus/document/SpaCyToken_Autonomous%20cars%20shift%20insurance%20liability%20toward%20manufacturers_6'}],\n",
       " 'deletes': 0,\n",
       " 'inserts': 77,\n",
       " 'transaction_retry_count': 0}"
      ]
     },
     "execution_count": 5,
     "metadata": {},
     "output_type": "execute_result"
    }
   ],
   "source": [
    "import spacy\n",
    "#import pprint as pp\n",
    "\n",
    "def doc_id(doc, var_name):\n",
    "    return WOQLQuery().idgen(\"doc:SpaCyDoc\",\n",
    "                              [WOQLQuery().string(doc.text)], var_name)\n",
    "\n",
    "def token_id(doc, token, var_name):\n",
    "    return WOQLQuery().idgen(\"doc:SpaCyToken\",\n",
    "                              [WOQLQuery().string(doc.text),\n",
    "                              WOQLQuery().string(str(token.i))], var_name)\n",
    "    \n",
    "\n",
    "nlp = spacy.load(\"en_core_web_sm\")\n",
    "doc = nlp(\"Autonomous cars shift insurance liability toward manufacturers\")\n",
    "\n",
    "insert_doc = doc_id(doc, \"v:doc_id\") + WOQLQuery().insert(\"v:doc_id\", \"scm:SpaCyDoc\", label=doc.text)\n",
    "\n",
    "insert_doc.execute(client, \"Add in the doc\")\n",
    "\n",
    "all_token = []\n",
    "for token in doc:\n",
    "    print(token.text, token.lemma_, token.pos_, token.tag_, token.dep_,\n",
    "            token.shape_, token.is_alpha, token.is_stop)\n",
    "    insert_token = (WOQLQuery().insert(f\"v:token_id_self{token.i}\", \"scm:SpaCyToken\", label=token.text)\n",
    "                               .property(\"lemma\", token.lemma_)\n",
    "                               .property(\"pos\", token.pos_)\n",
    "                               .property(\"tag\", token.tag_)\n",
    "                               .property(\"dep\", token.dep_)\n",
    "                               .property(\"shape\", token.shape_)\n",
    "                               .property(\"is_alpha\", token.is_alpha)\n",
    "                               .property(\"is_stop\", token.is_stop)\n",
    "                               .property(\"head\", f\"v:token_id_head{token.i}\")\n",
    "                               .property(\"doc\", f\"v:token_doc_id{token.i}\")\n",
    "                   )\n",
    "    all_token.append(\n",
    "                     token_id(doc, token, f\"v:token_id_self{token.i}\")\n",
    "                     + token_id(doc, token.head, f\"v:token_id_head{token.i}\")\n",
    "                     + doc_id(token.doc, f\"v:token_doc_id{token.i}\")\n",
    "                     + insert_token\n",
    "                     )\n",
    "WOQLQuery().woql_and(*all_token).execute(client, \"Add in all the tokens\")"
   ]
  },
  {
   "cell_type": "code",
   "execution_count": 6,
   "metadata": {},
   "outputs": [
    {
     "name": "stdout",
     "output_type": "stream",
     "text": [
      "Autonomous cars\n",
      "cars shift\n",
      "shift shift\n",
      "insurance liability\n",
      "liability shift\n",
      "toward liability\n",
      "manufacturers toward\n"
     ]
    }
   ],
   "source": [
    "for token in doc:\n",
    "    print(token.text, token.head.text)"
   ]
  },
  {
   "cell_type": "code",
   "execution_count": null,
   "metadata": {},
   "outputs": [],
   "source": [
    "# Delete everything\n",
    "# WOQLQuery().triple(\"v:A\",\"v:B\",\"v:C\").delete_triple(\"v:A\",\"v:B\",\"v:C\").execute(client, \"Delete everything\")"
   ]
  },
  {
   "cell_type": "code",
   "execution_count": null,
   "metadata": {},
   "outputs": [],
   "source": [
    "import spacy\n",
    "\n",
    "nlp = spacy.load(\"en_core_web_sm\")\n",
    "doc = nlp(\"Autonomous cars shift insurance liability toward manufacturers\")\n",
    "for token in doc:\n",
    "    print(token.text, token.dep_, token.head.text, token.head.pos_,\n",
    "            [child for child in token.children])"
   ]
  },
  {
   "cell_type": "code",
   "execution_count": null,
   "metadata": {},
   "outputs": [],
   "source": []
  }
 ],
 "metadata": {
  "kernelspec": {
   "display_name": "Python 3",
   "language": "python",
   "name": "python3"
  },
  "language_info": {
   "codemirror_mode": {
    "name": "ipython",
    "version": 3
   },
   "file_extension": ".py",
   "mimetype": "text/x-python",
   "name": "python",
   "nbconvert_exporter": "python",
   "pygments_lexer": "ipython3",
   "version": "3.7.3"
  }
 },
 "nbformat": 4,
 "nbformat_minor": 4
}
