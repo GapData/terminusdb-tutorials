{
 "cells": [
  {
   "cell_type": "code",
   "execution_count": null,
   "metadata": {},
   "outputs": [],
   "source": [
    "from random import choice\n",
    "from terminusdb_client import WOQLQuery, WOQLClient\n",
    "import terminusdb_client.woqldataframe as woqldf\n",
    "import pandas as pd"
   ]
  },
  {
   "cell_type": "code",
   "execution_count": null,
   "metadata": {},
   "outputs": [],
   "source": [
    "db_id = \"movie_graph\"\n",
    "client = WOQLClient(\"http://localhost:6363\")\n",
    "client.connect(key=\"root\", account=\"admin\", user=\"admin\")\n",
    "client.set_db(db_id)"
   ]
  },
  {
   "cell_type": "code",
   "execution_count": null,
   "metadata": {},
   "outputs": [],
   "source": [
    "result = WOQLQuery().star().execute(client)\n",
    "result_df = woqldf.query_to_df(result)"
   ]
  },
  {
   "cell_type": "code",
   "execution_count": null,
   "metadata": {},
   "outputs": [],
   "source": [
    "result_df.head()"
   ]
  },
  {
   "cell_type": "markdown",
   "metadata": {},
   "source": [
    "# Finding the movies that an actor is in"
   ]
  },
  {
   "cell_type": "code",
   "execution_count": null,
   "metadata": {},
   "outputs": [],
   "source": [
    "actor = \"Nicole Kidman\"\n",
    "query = (WOQLQuery().select(\"v:some_name\", \"v:movie_name\")\n",
    "                    .triple(\"v:someone\", \"type\", \"scm:Person\")\n",
    "                    .triple(\"v:someone\", \"label\", \"v:some_name\")\n",
    "                    .eq(\"v:some_name\", actor)\n",
    "                    .triple(\"v:some_movie\", \"type\", \"scm:Movie\")\n",
    "                    .triple(\"v:some_movie\", \"Cast\", \"v:someone\")\n",
    "                    .triple(\"v:some_movie\", \"label\", \"v:movie_name\")\n",
    "        )\n",
    "result = query.execute(client)\n",
    "result_df = woqldf.query_to_df(result)\n",
    "result_df.head(30)"
   ]
  },
  {
   "cell_type": "markdown",
   "metadata": {},
   "source": [
    "# Find a movie to watch tonight"
   ]
  },
  {
   "cell_type": "code",
   "execution_count": null,
   "metadata": {},
   "outputs": [],
   "source": [
    "genre = \"Adventure\"\n",
    "query = (WOQLQuery().select(\"v:gerne_name\", \"v:movie_name\")\n",
    "                    .triple(\"v:some_gerne\", \"type\", \"scm:Genre\")\n",
    "                    .triple(\"v:some_gerne\", \"label\", \"v:gerne_name\")\n",
    "                    .eq(\"v:gerne_name\", genre)\n",
    "                    .triple(\"v:some_movie\", \"type\", \"scm:Movie\")\n",
    "                    .triple(\"v:some_movie\", \"label\", \"v:movie_name\")\n",
    "        )\n",
    "result = query.execute(client)\n",
    "result_df = woqldf.query_to_df(result)\n",
    "all_movie = result_df['movie_name']\n",
    "choice(all_movie)"
   ]
  }
 ],
 "metadata": {
  "kernelspec": {
   "display_name": "Python 3",
   "language": "python",
   "name": "python3"
  },
  "language_info": {
   "codemirror_mode": {
    "name": "ipython",
    "version": 3
   },
   "file_extension": ".py",
   "mimetype": "text/x-python",
   "name": "python",
   "nbconvert_exporter": "python",
   "pygments_lexer": "ipython3",
   "version": "3.7.3"
  }
 },
 "nbformat": 4,
 "nbformat_minor": 4
}
